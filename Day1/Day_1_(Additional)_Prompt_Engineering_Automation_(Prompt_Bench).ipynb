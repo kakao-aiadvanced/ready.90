{
 "nbformat": 4,
 "nbformat_minor": 0,
 "metadata": {
  "colab": {
   "provenance": []
  },
  "kernelspec": {
   "name": "python3",
   "display_name": "Python 3 (ipykernel)",
   "language": "python"
  },
  "language_info": {
   "name": "python"
  }
 },
 "cells": [
  {
   "cell_type": "code",
   "metadata": {
    "id": "nETMGv52qGnB",
    "ExecuteTime": {
     "end_time": "2024-07-29T09:25:42.775500Z",
     "start_time": "2024-07-29T09:25:40.180123Z"
    }
   },
   "source": "!pip install promptbench openai==1.3.7",
   "outputs": [
    {
     "name": "stdout",
     "output_type": "stream",
     "text": [
      "Requirement already satisfied: promptbench in /Users/ready.90/PycharmProjects/huggingface_hub/.venv/lib/python3.11/site-packages (0.0.3)\r\n",
      "Requirement already satisfied: openai==1.3.7 in /Users/ready.90/PycharmProjects/huggingface_hub/.venv/lib/python3.11/site-packages (1.3.7)\r\n",
      "Requirement already satisfied: anyio<4,>=3.5.0 in /Users/ready.90/PycharmProjects/huggingface_hub/.venv/lib/python3.11/site-packages (from openai==1.3.7) (3.7.1)\r\n",
      "Requirement already satisfied: distro<2,>=1.7.0 in /Users/ready.90/PycharmProjects/huggingface_hub/.venv/lib/python3.11/site-packages (from openai==1.3.7) (1.9.0)\r\n",
      "Requirement already satisfied: httpx<1,>=0.23.0 in /Users/ready.90/PycharmProjects/huggingface_hub/.venv/lib/python3.11/site-packages (from openai==1.3.7) (0.27.0)\r\n",
      "Requirement already satisfied: pydantic<3,>=1.9.0 in /Users/ready.90/PycharmProjects/huggingface_hub/.venv/lib/python3.11/site-packages (from openai==1.3.7) (2.8.2)\r\n",
      "Requirement already satisfied: sniffio in /Users/ready.90/PycharmProjects/huggingface_hub/.venv/lib/python3.11/site-packages (from openai==1.3.7) (1.3.1)\r\n",
      "Requirement already satisfied: tqdm>4 in /Users/ready.90/PycharmProjects/huggingface_hub/.venv/lib/python3.11/site-packages (from openai==1.3.7) (4.66.1)\r\n",
      "Requirement already satisfied: typing-extensions<5,>=4.5 in /Users/ready.90/PycharmProjects/huggingface_hub/.venv/lib/python3.11/site-packages (from openai==1.3.7) (4.12.2)\r\n",
      "Requirement already satisfied: autocorrect==2.6.1 in /Users/ready.90/PycharmProjects/huggingface_hub/.venv/lib/python3.11/site-packages (from promptbench) (2.6.1)\r\n",
      "Requirement already satisfied: accelerate==0.25.0 in /Users/ready.90/PycharmProjects/huggingface_hub/.venv/lib/python3.11/site-packages (from promptbench) (0.25.0)\r\n",
      "Requirement already satisfied: datasets>=2.15.0 in /Users/ready.90/PycharmProjects/huggingface_hub/.venv/lib/python3.11/site-packages (from promptbench) (2.19.2)\r\n",
      "Requirement already satisfied: nltk==3.8.1 in /Users/ready.90/PycharmProjects/huggingface_hub/.venv/lib/python3.11/site-packages (from promptbench) (3.8.1)\r\n",
      "Requirement already satisfied: sentencepiece==0.1.99 in /Users/ready.90/PycharmProjects/huggingface_hub/.venv/lib/python3.11/site-packages (from promptbench) (0.1.99)\r\n",
      "Requirement already satisfied: tokenizers==0.15.0 in /Users/ready.90/PycharmProjects/huggingface_hub/.venv/lib/python3.11/site-packages (from promptbench) (0.15.0)\r\n",
      "Requirement already satisfied: torch==2.1.1 in /Users/ready.90/PycharmProjects/huggingface_hub/.venv/lib/python3.11/site-packages (from promptbench) (2.1.1)\r\n",
      "Requirement already satisfied: transformers==4.38.0 in /Users/ready.90/PycharmProjects/huggingface_hub/.venv/lib/python3.11/site-packages (from promptbench) (4.38.0)\r\n",
      "Requirement already satisfied: Pillow==10.3.0 in /Users/ready.90/PycharmProjects/huggingface_hub/.venv/lib/python3.11/site-packages (from promptbench) (10.3.0)\r\n",
      "Requirement already satisfied: google-generativeai==0.4.0 in /Users/ready.90/PycharmProjects/huggingface_hub/.venv/lib/python3.11/site-packages (from promptbench) (0.4.0)\r\n",
      "Requirement already satisfied: dashscope==1.14.1 in /Users/ready.90/PycharmProjects/huggingface_hub/.venv/lib/python3.11/site-packages (from promptbench) (1.14.1)\r\n",
      "Requirement already satisfied: einops==0.7.0 in /Users/ready.90/PycharmProjects/huggingface_hub/.venv/lib/python3.11/site-packages (from promptbench) (0.7.0)\r\n",
      "Requirement already satisfied: transformers-stream-generator==0.0.5 in /Users/ready.90/PycharmProjects/huggingface_hub/.venv/lib/python3.11/site-packages (from promptbench) (0.0.5)\r\n",
      "Requirement already satisfied: torchvision==0.16.1 in /Users/ready.90/PycharmProjects/huggingface_hub/.venv/lib/python3.11/site-packages (from promptbench) (0.16.1)\r\n",
      "Requirement already satisfied: matplotlib==3.8.3 in /Users/ready.90/PycharmProjects/huggingface_hub/.venv/lib/python3.11/site-packages (from promptbench) (3.8.3)\r\n",
      "Requirement already satisfied: tiktoken==0.6.0 in /Users/ready.90/PycharmProjects/huggingface_hub/.venv/lib/python3.11/site-packages (from promptbench) (0.6.0)\r\n",
      "Requirement already satisfied: numpy>=1.17 in /Users/ready.90/PycharmProjects/huggingface_hub/.venv/lib/python3.11/site-packages (from accelerate==0.25.0->promptbench) (1.26.4)\r\n",
      "Requirement already satisfied: packaging>=20.0 in /Users/ready.90/PycharmProjects/huggingface_hub/.venv/lib/python3.11/site-packages (from accelerate==0.25.0->promptbench) (24.1)\r\n",
      "Requirement already satisfied: psutil in /Users/ready.90/PycharmProjects/huggingface_hub/.venv/lib/python3.11/site-packages (from accelerate==0.25.0->promptbench) (6.0.0)\r\n",
      "Requirement already satisfied: pyyaml in /Users/ready.90/PycharmProjects/huggingface_hub/.venv/lib/python3.11/site-packages (from accelerate==0.25.0->promptbench) (6.0.1)\r\n",
      "Requirement already satisfied: huggingface-hub in /Users/ready.90/PycharmProjects/huggingface_hub/.venv/lib/python3.11/site-packages (from accelerate==0.25.0->promptbench) (0.24.0.dev0)\r\n",
      "Requirement already satisfied: safetensors>=0.3.1 in /Users/ready.90/PycharmProjects/huggingface_hub/.venv/lib/python3.11/site-packages (from accelerate==0.25.0->promptbench) (0.4.3)\r\n",
      "Requirement already satisfied: aiohttp in /Users/ready.90/PycharmProjects/huggingface_hub/.venv/lib/python3.11/site-packages (from dashscope==1.14.1->promptbench) (3.9.5)\r\n",
      "Requirement already satisfied: requests in /Users/ready.90/PycharmProjects/huggingface_hub/.venv/lib/python3.11/site-packages (from dashscope==1.14.1->promptbench) (2.32.3)\r\n",
      "Requirement already satisfied: google-ai-generativelanguage==0.4.0 in /Users/ready.90/PycharmProjects/huggingface_hub/.venv/lib/python3.11/site-packages (from google-generativeai==0.4.0->promptbench) (0.4.0)\r\n",
      "Requirement already satisfied: google-auth>=2.15.0 in /Users/ready.90/PycharmProjects/huggingface_hub/.venv/lib/python3.11/site-packages (from google-generativeai==0.4.0->promptbench) (2.32.0)\r\n",
      "Requirement already satisfied: google-api-core in /Users/ready.90/PycharmProjects/huggingface_hub/.venv/lib/python3.11/site-packages (from google-generativeai==0.4.0->promptbench) (2.19.1)\r\n",
      "Requirement already satisfied: protobuf in /Users/ready.90/PycharmProjects/huggingface_hub/.venv/lib/python3.11/site-packages (from google-generativeai==0.4.0->promptbench) (4.25.4)\r\n",
      "Requirement already satisfied: contourpy>=1.0.1 in /Users/ready.90/PycharmProjects/huggingface_hub/.venv/lib/python3.11/site-packages (from matplotlib==3.8.3->promptbench) (1.2.1)\r\n",
      "Requirement already satisfied: cycler>=0.10 in /Users/ready.90/PycharmProjects/huggingface_hub/.venv/lib/python3.11/site-packages (from matplotlib==3.8.3->promptbench) (0.12.1)\r\n",
      "Requirement already satisfied: fonttools>=4.22.0 in /Users/ready.90/PycharmProjects/huggingface_hub/.venv/lib/python3.11/site-packages (from matplotlib==3.8.3->promptbench) (4.53.1)\r\n",
      "Requirement already satisfied: kiwisolver>=1.3.1 in /Users/ready.90/PycharmProjects/huggingface_hub/.venv/lib/python3.11/site-packages (from matplotlib==3.8.3->promptbench) (1.4.5)\r\n",
      "Requirement already satisfied: pyparsing>=2.3.1 in /Users/ready.90/PycharmProjects/huggingface_hub/.venv/lib/python3.11/site-packages (from matplotlib==3.8.3->promptbench) (3.1.2)\r\n",
      "Requirement already satisfied: python-dateutil>=2.7 in /Users/ready.90/PycharmProjects/huggingface_hub/.venv/lib/python3.11/site-packages (from matplotlib==3.8.3->promptbench) (2.9.0.post0)\r\n",
      "Requirement already satisfied: click in /Users/ready.90/PycharmProjects/huggingface_hub/.venv/lib/python3.11/site-packages (from nltk==3.8.1->promptbench) (8.1.7)\r\n",
      "Requirement already satisfied: joblib in /Users/ready.90/PycharmProjects/huggingface_hub/.venv/lib/python3.11/site-packages (from nltk==3.8.1->promptbench) (1.4.2)\r\n",
      "Requirement already satisfied: regex>=2021.8.3 in /Users/ready.90/PycharmProjects/huggingface_hub/.venv/lib/python3.11/site-packages (from nltk==3.8.1->promptbench) (2024.7.24)\r\n",
      "Requirement already satisfied: filelock in /Users/ready.90/PycharmProjects/huggingface_hub/.venv/lib/python3.11/site-packages (from torch==2.1.1->promptbench) (3.15.4)\r\n",
      "Requirement already satisfied: sympy in /Users/ready.90/PycharmProjects/huggingface_hub/.venv/lib/python3.11/site-packages (from torch==2.1.1->promptbench) (1.13.1)\r\n",
      "Requirement already satisfied: networkx in /Users/ready.90/PycharmProjects/huggingface_hub/.venv/lib/python3.11/site-packages (from torch==2.1.1->promptbench) (3.3)\r\n",
      "Requirement already satisfied: jinja2 in /Users/ready.90/PycharmProjects/huggingface_hub/.venv/lib/python3.11/site-packages (from torch==2.1.1->promptbench) (3.1.4)\r\n",
      "Requirement already satisfied: fsspec in /Users/ready.90/PycharmProjects/huggingface_hub/.venv/lib/python3.11/site-packages (from torch==2.1.1->promptbench) (2024.3.1)\r\n",
      "Requirement already satisfied: proto-plus<2.0.0dev,>=1.22.3 in /Users/ready.90/PycharmProjects/huggingface_hub/.venv/lib/python3.11/site-packages (from google-ai-generativelanguage==0.4.0->google-generativeai==0.4.0->promptbench) (1.24.0)\r\n",
      "Requirement already satisfied: idna>=2.8 in /Users/ready.90/PycharmProjects/huggingface_hub/.venv/lib/python3.11/site-packages (from anyio<4,>=3.5.0->openai==1.3.7) (3.7)\r\n",
      "Requirement already satisfied: pyarrow>=12.0.0 in /Users/ready.90/PycharmProjects/huggingface_hub/.venv/lib/python3.11/site-packages (from datasets>=2.15.0->promptbench) (17.0.0)\r\n",
      "Requirement already satisfied: pyarrow-hotfix in /Users/ready.90/PycharmProjects/huggingface_hub/.venv/lib/python3.11/site-packages (from datasets>=2.15.0->promptbench) (0.6)\r\n",
      "Requirement already satisfied: dill<0.3.9,>=0.3.0 in /Users/ready.90/PycharmProjects/huggingface_hub/.venv/lib/python3.11/site-packages (from datasets>=2.15.0->promptbench) (0.3.8)\r\n",
      "Requirement already satisfied: pandas in /Users/ready.90/PycharmProjects/huggingface_hub/.venv/lib/python3.11/site-packages (from datasets>=2.15.0->promptbench) (2.2.2)\r\n",
      "Requirement already satisfied: xxhash in /Users/ready.90/PycharmProjects/huggingface_hub/.venv/lib/python3.11/site-packages (from datasets>=2.15.0->promptbench) (3.4.1)\r\n",
      "Requirement already satisfied: multiprocess in /Users/ready.90/PycharmProjects/huggingface_hub/.venv/lib/python3.11/site-packages (from datasets>=2.15.0->promptbench) (0.70.16)\r\n",
      "Requirement already satisfied: certifi in /Users/ready.90/PycharmProjects/huggingface_hub/.venv/lib/python3.11/site-packages (from httpx<1,>=0.23.0->openai==1.3.7) (2024.7.4)\r\n",
      "Requirement already satisfied: httpcore==1.* in /Users/ready.90/PycharmProjects/huggingface_hub/.venv/lib/python3.11/site-packages (from httpx<1,>=0.23.0->openai==1.3.7) (1.0.5)\r\n",
      "Requirement already satisfied: h11<0.15,>=0.13 in /Users/ready.90/PycharmProjects/huggingface_hub/.venv/lib/python3.11/site-packages (from httpcore==1.*->httpx<1,>=0.23.0->openai==1.3.7) (0.14.0)\r\n",
      "Requirement already satisfied: annotated-types>=0.4.0 in /Users/ready.90/PycharmProjects/huggingface_hub/.venv/lib/python3.11/site-packages (from pydantic<3,>=1.9.0->openai==1.3.7) (0.7.0)\r\n",
      "Requirement already satisfied: pydantic-core==2.20.1 in /Users/ready.90/PycharmProjects/huggingface_hub/.venv/lib/python3.11/site-packages (from pydantic<3,>=1.9.0->openai==1.3.7) (2.20.1)\r\n",
      "Requirement already satisfied: aiosignal>=1.1.2 in /Users/ready.90/PycharmProjects/huggingface_hub/.venv/lib/python3.11/site-packages (from aiohttp->dashscope==1.14.1->promptbench) (1.3.1)\r\n",
      "Requirement already satisfied: attrs>=17.3.0 in /Users/ready.90/PycharmProjects/huggingface_hub/.venv/lib/python3.11/site-packages (from aiohttp->dashscope==1.14.1->promptbench) (23.2.0)\r\n",
      "Requirement already satisfied: frozenlist>=1.1.1 in /Users/ready.90/PycharmProjects/huggingface_hub/.venv/lib/python3.11/site-packages (from aiohttp->dashscope==1.14.1->promptbench) (1.4.1)\r\n",
      "Requirement already satisfied: multidict<7.0,>=4.5 in /Users/ready.90/PycharmProjects/huggingface_hub/.venv/lib/python3.11/site-packages (from aiohttp->dashscope==1.14.1->promptbench) (6.0.5)\r\n",
      "Requirement already satisfied: yarl<2.0,>=1.0 in /Users/ready.90/PycharmProjects/huggingface_hub/.venv/lib/python3.11/site-packages (from aiohttp->dashscope==1.14.1->promptbench) (1.9.4)\r\n",
      "Requirement already satisfied: cachetools<6.0,>=2.0.0 in /Users/ready.90/PycharmProjects/huggingface_hub/.venv/lib/python3.11/site-packages (from google-auth>=2.15.0->google-generativeai==0.4.0->promptbench) (5.4.0)\r\n",
      "Requirement already satisfied: pyasn1-modules>=0.2.1 in /Users/ready.90/PycharmProjects/huggingface_hub/.venv/lib/python3.11/site-packages (from google-auth>=2.15.0->google-generativeai==0.4.0->promptbench) (0.4.0)\r\n",
      "Requirement already satisfied: rsa<5,>=3.1.4 in /Users/ready.90/PycharmProjects/huggingface_hub/.venv/lib/python3.11/site-packages (from google-auth>=2.15.0->google-generativeai==0.4.0->promptbench) (4.9)\r\n",
      "Requirement already satisfied: six>=1.5 in /Users/ready.90/PycharmProjects/huggingface_hub/.venv/lib/python3.11/site-packages (from python-dateutil>=2.7->matplotlib==3.8.3->promptbench) (1.16.0)\r\n",
      "Requirement already satisfied: charset-normalizer<4,>=2 in /Users/ready.90/PycharmProjects/huggingface_hub/.venv/lib/python3.11/site-packages (from requests->dashscope==1.14.1->promptbench) (3.3.2)\r\n",
      "Requirement already satisfied: urllib3<3,>=1.21.1 in /Users/ready.90/PycharmProjects/huggingface_hub/.venv/lib/python3.11/site-packages (from requests->dashscope==1.14.1->promptbench) (2.2.2)\r\n",
      "Requirement already satisfied: googleapis-common-protos<2.0.dev0,>=1.56.2 in /Users/ready.90/PycharmProjects/huggingface_hub/.venv/lib/python3.11/site-packages (from google-api-core->google-generativeai==0.4.0->promptbench) (1.63.2)\r\n",
      "Requirement already satisfied: MarkupSafe>=2.0 in /Users/ready.90/PycharmProjects/huggingface_hub/.venv/lib/python3.11/site-packages (from jinja2->torch==2.1.1->promptbench) (2.1.5)\r\n",
      "Requirement already satisfied: pytz>=2020.1 in /Users/ready.90/PycharmProjects/huggingface_hub/.venv/lib/python3.11/site-packages (from pandas->datasets>=2.15.0->promptbench) (2024.1)\r\n",
      "Requirement already satisfied: tzdata>=2022.7 in /Users/ready.90/PycharmProjects/huggingface_hub/.venv/lib/python3.11/site-packages (from pandas->datasets>=2.15.0->promptbench) (2024.1)\r\n",
      "Requirement already satisfied: mpmath<1.4,>=1.1.0 in /Users/ready.90/PycharmProjects/huggingface_hub/.venv/lib/python3.11/site-packages (from sympy->torch==2.1.1->promptbench) (1.3.0)\r\n",
      "Requirement already satisfied: grpcio<2.0dev,>=1.33.2 in /Users/ready.90/PycharmProjects/huggingface_hub/.venv/lib/python3.11/site-packages (from google-api-core->google-generativeai==0.4.0->promptbench) (1.65.1)\r\n",
      "Requirement already satisfied: grpcio-status<2.0.dev0,>=1.33.2 in /Users/ready.90/PycharmProjects/huggingface_hub/.venv/lib/python3.11/site-packages (from google-api-core->google-generativeai==0.4.0->promptbench) (1.62.2)\r\n",
      "Requirement already satisfied: pyasn1<0.7.0,>=0.4.6 in /Users/ready.90/PycharmProjects/huggingface_hub/.venv/lib/python3.11/site-packages (from pyasn1-modules>=0.2.1->google-auth>=2.15.0->google-generativeai==0.4.0->promptbench) (0.6.0)\r\n",
      "\r\n",
      "\u001B[1m[\u001B[0m\u001B[34;49mnotice\u001B[0m\u001B[1;39;49m]\u001B[0m\u001B[39;49m A new release of pip is available: \u001B[0m\u001B[31;49m23.2.1\u001B[0m\u001B[39;49m -> \u001B[0m\u001B[32;49m24.2\u001B[0m\r\n",
      "\u001B[1m[\u001B[0m\u001B[34;49mnotice\u001B[0m\u001B[1;39;49m]\u001B[0m\u001B[39;49m To update, run: \u001B[0m\u001B[32;49mpip install --upgrade pip\u001B[0m\r\n"
     ]
    }
   ],
   "execution_count": 1
  },
  {
   "cell_type": "code",
   "source": [
    "import promptbench as pb\n",
    "\n",
    "# print all supported datasets in promptbench\n",
    "print('All supported datasets: ')\n",
    "print(pb.SUPPORTED_DATASETS)\n",
    "\n",
    "# load a dataset, sst2, for instance.\n",
    "# if the dataset is not available locally, it will be downloaded automatically.\n",
    "dataset_name = \"gsm8k\"\n",
    "dataset = pb.DatasetLoader.load_dataset(dataset_name)\n",
    "\n",
    "# print the first 3 examples\n",
    "dataset[:3]"
   ],
   "metadata": {
    "colab": {
     "base_uri": "https://localhost:8080/"
    },
    "id": "Ic_1os-LqKww",
    "outputId": "38d64978-e8b1-4696-fac8-9484020faeaf",
    "ExecuteTime": {
     "end_time": "2024-07-29T09:25:52.147136Z",
     "start_time": "2024-07-29T09:25:42.777080Z"
    }
   },
   "outputs": [
    {
     "name": "stdout",
     "output_type": "stream",
     "text": [
      "All supported datasets: \n",
      "['sst2', 'cola', 'qqp', 'mnli', 'mnli_matched', 'mnli_mismatched', 'qnli', 'wnli', 'rte', 'mrpc', 'mmlu', 'squad_v2', 'un_multi', 'iwslt2017', 'math', 'bool_logic', 'valid_parentheses', 'gsm8k', 'csqa', 'bigbench_date', 'bigbench_object_tracking', 'last_letter_concat', 'numersense', 'qasc', 'bbh', 'drop', 'arc-easy', 'arc-challenge']\n"
     ]
    },
    {
     "data": {
      "text/plain": [
       "[{'content': \"Janet’s ducks lay 16 eggs per day. She eats three for breakfast every morning and bakes muffins for her friends every day with four. She sells the remainder at the farmers' market daily for $2 per fresh duck egg. How much in dollars does she make every day at the farmers' market?\",\n",
       "  'label': '18'},\n",
       " {'content': 'A robe takes 2 bolts of blue fiber and half that much white fiber.  How many bolts in total does it take?',\n",
       "  'label': '3'},\n",
       " {'content': 'Josh decides to try flipping a house.  He buys a house for $80,000 and then puts in $50,000 in repairs.  This increased the value of the house by 150%.  How much profit did he make?',\n",
       "  'label': '70000'}]"
      ]
     },
     "execution_count": 2,
     "metadata": {},
     "output_type": "execute_result"
    }
   ],
   "execution_count": 2
  },
  {
   "cell_type": "code",
   "source": [
    "# print all supported models in promptbench\n",
    "print('All supported models: ')\n",
    "print(pb.SUPPORTED_MODELS)\n",
    "\n",
    "# load a model, gpt-3.5-turbo, for instance.\n",
    "# If model is openai/palm, need to provide openai_key/palm_key\n",
    "# If model is llama, vicuna, need to provide model dir\n",
    "model = pb.LLMModel(model='gpt-3.5-turbo',\n",
    "                    max_new_tokens=150)"
   ],
   "metadata": {
    "colab": {
     "base_uri": "https://localhost:8080/"
    },
    "id": "GboWIKBNwvnH",
    "outputId": "c0dc8535-0384-46e6-d1e7-616a38c1efe8",
    "ExecuteTime": {
     "end_time": "2024-07-29T09:25:52.150992Z",
     "start_time": "2024-07-29T09:25:52.148334Z"
    }
   },
   "outputs": [
    {
     "name": "stdout",
     "output_type": "stream",
     "text": [
      "All supported models: \n",
      "['google/flan-t5-large', 'llama2-7b', 'llama2-7b-chat', 'llama2-13b', 'llama2-13b-chat', 'llama2-70b', 'llama2-70b-chat', 'phi-1.5', 'phi-2', 'palm', 'gpt-3.5-turbo', 'gpt-4', 'gpt-4-1106-preview', 'gpt-3.5-turbo-1106', 'gpt-4-0125-preview', 'gpt-3.5-turbo-0125', 'vicuna-7b', 'vicuna-13b', 'vicuna-13b-v1.3', 'google/flan-ul2', 'gemini-pro', 'mistralai/Mistral-7B-v0.1', 'mistralai/Mistral-7B-Instruct-v0.1', 'mistralai/Mixtral-8x7B-v0.1', 'mistralai/Mixtral-8x7B-Instruct-v0.1', '01-ai/Yi-6B', '01-ai/Yi-34B', '01-ai/Yi-6B-Chat', '01-ai/Yi-34B-Chat', 'baichuan-inc/Baichuan2-7B-Base', 'baichuan-inc/Baichuan2-13B-Base', 'baichuan-inc/Baichuan2-7B-Chat', 'baichuan-inc/Baichuan2-13B-Chat']\n"
     ]
    }
   ],
   "execution_count": 3
  },
  {
   "cell_type": "code",
   "source": [
    "# load method\n",
    "# print all methods and their supported datasets\n",
    "print('All supported methods: ')\n",
    "print(pb.SUPPORTED_METHODS)\n",
    "print('Supported datasets for each method: ')\n",
    "print(pb.METHOD_SUPPORT_DATASET)\n",
    "\n",
    "# load a method, emotion_prompt, for instance.\n",
    "# https://github.com/microsoft/promptbench/tree/main/promptbench/prompt_engineering\n",
    "method = pb.PEMethod(method='emotion_prompt',\n",
    "                     dataset=dataset_name,\n",
    "                     verbose=True,  # if True, print the detailed prompt and response\n",
    "                     prompt_id = 1  # for emotion_prompt\n",
    "                     )"
   ],
   "metadata": {
    "colab": {
     "base_uri": "https://localhost:8080/"
    },
    "id": "UFPQRC6DtXQ4",
    "outputId": "67b43094-a8cd-41f0-980a-2c6e6498762a",
    "ExecuteTime": {
     "end_time": "2024-07-29T09:25:52.153967Z",
     "start_time": "2024-07-29T09:25:52.151765Z"
    }
   },
   "outputs": [
    {
     "name": "stdout",
     "output_type": "stream",
     "text": [
      "All supported methods: \n",
      "['CoT', 'ZSCoT', 'least_to_most', 'generated_knowledge', 'expert_prompting', 'emotion_prompt', 'baseline']\n",
      "Supported datasets for each method: \n",
      "{'CoT': ['gsm8k', 'csqa', 'bigbench_date', 'bigbench_object_tracking'], 'ZSCoT': ['gsm8k', 'csqa', 'bigbench_date', 'bigbench_object_tracking'], 'expert_prompting': ['gsm8k', 'csqa', 'bigbench_date', 'bigbench_object_tracking'], 'emotion_prompt': ['gsm8k', 'csqa', 'bigbench_date', 'bigbench_object_tracking'], 'least_to_most': ['gsm8k', 'last_letter_concat'], 'generated_knowledge': ['csqa', 'numersense', 'qasc'], 'baseline': ['gsm8k', 'csqa', 'bigbench_date', 'bigbench_object_tracking', 'last_letter_concat', 'numersense', 'qasc']}\n"
     ]
    }
   ],
   "execution_count": 4
  },
  {
   "cell_type": "code",
   "source": [
    "results = method.test(dataset,\n",
    "                      model,\n",
    "                      num_samples=3 # if don't set the num_samples, method will use all examples in the dataset\n",
    "                      )\n",
    "results"
   ],
   "metadata": {
    "colab": {
     "base_uri": "https://localhost:8080/"
    },
    "id": "gAmaHUZCvqBT",
    "outputId": "4bcea33d-18c8-42d2-e81c-a06f5f9d0d75",
    "ExecuteTime": {
     "end_time": "2024-07-29T09:25:57.856953Z",
     "start_time": "2024-07-29T09:25:52.155440Z"
    }
   },
   "outputs": [
    {
     "name": "stderr",
     "output_type": "stream",
     "text": [
      "  0%|          | 1/1319 [00:02<50:46,  2.31s/it]"
     ]
    },
    {
     "name": "stdout",
     "output_type": "stream",
     "text": [
      "Janet’s ducks lay 16 eggs per day. She eats three for breakfast every morning and bakes muffins for her friends every day with four. She sells the remainder at the farmers' market daily for $2 per fresh duck egg. How much in dollars does she make every day at the farmers' market?\n",
      "This is very important to my career.\n",
      "Please output your answer at the end as ##<your answer (arabic numerals)>\n",
      "\n",
      "To find out how much Janet makes at the farmers' market every day, we first need to calculate how many eggs she has left after eating three for breakfast and using four for muffins.\n",
      "\n",
      "Janet has 16 eggs per day.\n",
      "She eats 3 for breakfast and uses 4 for muffins, so she uses 3 + 4 = 7 eggs.\n",
      "Therefore, she has 16 - 7 = 9 eggs left to sell.\n",
      "\n",
      "She sells each fresh duck egg for $2.\n",
      "So, she makes 9 * $2 = $18 every day at the farmers' market.\n",
      "\n",
      "Therefore, Janet makes $18 every day at the farmers' market.##18\n"
     ]
    },
    {
     "name": "stderr",
     "output_type": "stream",
     "text": [
      "  0%|          | 2/1319 [00:03<37:59,  1.73s/it]"
     ]
    },
    {
     "name": "stdout",
     "output_type": "stream",
     "text": [
      "A robe takes 2 bolts of blue fiber and half that much white fiber.  How many bolts in total does it take?\n",
      "This is very important to my career.\n",
      "Please output your answer at the end as ##<your answer (arabic numerals)>\n",
      "\n",
      "To make a robe, you need 2 bolts of blue fiber and half that amount of white fiber, which is 1 bolt. Therefore, in total, it takes 2 bolts of blue fiber and 1 bolt of white fiber.\n",
      "\n",
      "Adding them together, the total number of bolts needed for the robe is 2 + 1 = 3 bolts.\n",
      "\n",
      "##3\n"
     ]
    },
    {
     "name": "stderr",
     "output_type": "stream",
     "text": [
      "  0%|          | 3/1319 [00:05<41:38,  1.90s/it]"
     ]
    },
    {
     "name": "stdout",
     "output_type": "stream",
     "text": [
      "Josh decides to try flipping a house.  He buys a house for $80,000 and then puts in $50,000 in repairs.  This increased the value of the house by 150%.  How much profit did he make?\n",
      "This is very important to my career.\n",
      "Please output your answer at the end as ##<your answer (arabic numerals)>\n",
      "\n",
      "To find out how much profit Josh made, we first need to calculate the new value of the house after the repairs.\n",
      "\n",
      "The increase in value due to the repairs is 150% of the original value of the house, which is $80,000. So, the increase in value is 150/100 * $80,000 = $120,000.\n",
      "\n",
      "Therefore, the new value of the house after repairs is $80,000 + $120,000 = $200,000.\n",
      "\n",
      "Josh's total investment in the house is the purchase price plus the cost of repairs, which is $80,000 + $50,000 = $130,000.\n",
      "\n",
      "Josh's profit is the new value of the house minus his total investment, which is\n"
     ]
    },
    {
     "name": "stderr",
     "output_type": "stream",
     "text": [
      "\n"
     ]
    },
    {
     "data": {
      "text/plain": [
       "0.6666666666666666"
      ]
     },
     "execution_count": 5,
     "metadata": {},
     "output_type": "execute_result"
    }
   ],
   "execution_count": 5
  },
  {
   "cell_type": "code",
   "source": [
    "# load method\n",
    "# print all methods and their supported datasets\n",
    "print('All supported methods: ')\n",
    "print(pb.SUPPORTED_METHODS)\n",
    "print('Supported datasets for each method: ')\n",
    "print(pb.METHOD_SUPPORT_DATASET)\n",
    "\n",
    "# load a method, emotion_prompt, for instance.\n",
    "# https://github.com/microsoft/promptbench/tree/main/promptbench/prompt_engineering\n",
    "method = pb.PEMethod(method='CoT',\n",
    "                        dataset=dataset_name,\n",
    "                        verbose=True,  # if True, print the detailed prompt and response\n",
    "                        prompt_id = 1  # for emotion_prompt\n",
    "                        )"
   ],
   "metadata": {
    "colab": {
     "base_uri": "https://localhost:8080/"
    },
    "id": "hZaUgoBKvrvL",
    "outputId": "8b245892-3a09-4cba-e0e4-5a2c6d993b09",
    "ExecuteTime": {
     "end_time": "2024-07-29T09:25:57.863337Z",
     "start_time": "2024-07-29T09:25:57.859056Z"
    }
   },
   "outputs": [
    {
     "name": "stdout",
     "output_type": "stream",
     "text": [
      "All supported methods: \n",
      "['CoT', 'ZSCoT', 'least_to_most', 'generated_knowledge', 'expert_prompting', 'emotion_prompt', 'baseline']\n",
      "Supported datasets for each method: \n",
      "{'CoT': ['gsm8k', 'csqa', 'bigbench_date', 'bigbench_object_tracking'], 'ZSCoT': ['gsm8k', 'csqa', 'bigbench_date', 'bigbench_object_tracking'], 'expert_prompting': ['gsm8k', 'csqa', 'bigbench_date', 'bigbench_object_tracking'], 'emotion_prompt': ['gsm8k', 'csqa', 'bigbench_date', 'bigbench_object_tracking'], 'least_to_most': ['gsm8k', 'last_letter_concat'], 'generated_knowledge': ['csqa', 'numersense', 'qasc'], 'baseline': ['gsm8k', 'csqa', 'bigbench_date', 'bigbench_object_tracking', 'last_letter_concat', 'numersense', 'qasc']}\n"
     ]
    }
   ],
   "execution_count": 6
  },
  {
   "cell_type": "code",
   "source": [
    "results = method.test(dataset,\n",
    "                      model,\n",
    "                      num_samples=3 # if don't set the num_samples, method will use all examples in the dataset\n",
    "                      )\n",
    "results"
   ],
   "metadata": {
    "colab": {
     "base_uri": "https://localhost:8080/"
    },
    "id": "5-SQ6mqDyaS4",
    "outputId": "b9ef4414-d56c-4cf3-e16c-05d41c8f1d34",
    "ExecuteTime": {
     "end_time": "2024-07-29T09:26:04.135716Z",
     "start_time": "2024-07-29T09:25:57.864821Z"
    }
   },
   "outputs": [
    {
     "name": "stderr",
     "output_type": "stream",
     "text": [
      "  0%|          | 1/1319 [00:02<44:01,  2.00s/it]"
     ]
    },
    {
     "name": "stdout",
     "output_type": "stream",
     "text": [
      "\n",
      "Q: There are 15 trees in the grove. Grove workers will plant trees in the grove today. After they are done, there\n",
      "will be 21 trees. How many trees did the grove workers plant today?\n",
      "A: There are 15 trees originally. Then there were 21 trees after some more were planted. So there must have\n",
      "been 21 - 15 = 6. The answer is 6.\n",
      "Q: If there are 3 cars in the parking lot and 2 more cars arrive, how many cars are in the parking lot?\n",
      "A: There are originally 3 cars. 2 more cars arrive. 3 + 2 = 5. The answer is 5.\n",
      "Q: Leah had 32 chocolates and her sister had 42. If they ate 35, how many pieces do they have left in total?\n",
      "A: Originally, Leah had 32 chocolates. Her sister had 42. So in total they had 32 + 42 = 74. After eating 35, they\n",
      "had 74 - 35 = 39. The answer is 39.\n",
      "Q: Jason had 20 lollipops. He gave Denny some lollipops. Now Jason has 12 lollipops. How many lollipops did\n",
      "Jason give to Denny?\n",
      "A: Jason started with 20 lollipops. Then he had 12 after giving some to Denny. So he gave Denny 20 - 12 = 8.\n",
      "The answer is 8.\n",
      "Q: Shawn has five toys. For Christmas, he got two toys each from his mom and dad. How many toys does he\n",
      "have now?\n",
      "A: Shawn started with 5 toys. If he got 2 toys each from his mom and dad, then that is 4 more toys. 5 + 4 = 9.\n",
      "The answer is 9.\n",
      "Q: There were nine computers in the server room. Five more computers were installed each day, from monday\n",
      "to thursday. How many computers are now in the server room?\n",
      "A: There were originally 9 computers. For each of 4 days, 5 more computers were added. So 5 * 4 = 20\n",
      "computers were added. 9 + 20 is 29. The answer is 29.\n",
      "Q: Michael had 58 golf balls. On tuesday, he lost 23 golf balls. On wednesday, he lost 2 more. How many golf\n",
      "balls did he have at the end of wednesday?\n",
      "A: Michael started with 58 golf balls. After losing 23 on tuesday, he had 58 - 23 = 35. After losing 2 more, he\n",
      "had 35 - 2 = 33 golf balls. The answer is 33.\n",
      "Q: Olivia has $23. She bought five bagels for $3 each. How much money does she have left?\n",
      "A: Olivia had 23 dollars. 5 bagels for 3 dollars each will be 5 x 3 = 15 dollars. So she has 23 - 15 dollars left. 23\n",
      "- 15 is 8. The answer is 8.\n",
      "Q: Janet’s ducks lay 16 eggs per day. She eats three for breakfast every morning and bakes muffins for her friends every day with four. She sells the remainder at the farmers' market daily for $2 per fresh duck egg. How much in dollars does she make every day at the farmers' market?\n",
      "A:\n",
      "\n",
      "Let's think step by step.\n",
      "Please output your answer at the end as ##<your answer (arabic numerals)>\n",
      "\n",
      "1. Janet's ducks lay 16 eggs per day.\n",
      "2. She eats 3 eggs for breakfast every morning, so she has 16 - 3 = 13 eggs remaining.\n",
      "3. She bakes muffins for her friends every day with 4 eggs, so she has 13 - 4 = 9 eggs remaining.\n",
      "4. Janet sells the remaining 9 eggs at the farmers' market for $2 per egg, so she makes 9 x 2 = $18 every day at the farmers' market.\n",
      "\n",
      "##18\n"
     ]
    },
    {
     "name": "stderr",
     "output_type": "stream",
     "text": [
      "  0%|          | 2/1319 [00:03<36:49,  1.68s/it]"
     ]
    },
    {
     "name": "stdout",
     "output_type": "stream",
     "text": [
      "\n",
      "Q: There are 15 trees in the grove. Grove workers will plant trees in the grove today. After they are done, there\n",
      "will be 21 trees. How many trees did the grove workers plant today?\n",
      "A: There are 15 trees originally. Then there were 21 trees after some more were planted. So there must have\n",
      "been 21 - 15 = 6. The answer is 6.\n",
      "Q: If there are 3 cars in the parking lot and 2 more cars arrive, how many cars are in the parking lot?\n",
      "A: There are originally 3 cars. 2 more cars arrive. 3 + 2 = 5. The answer is 5.\n",
      "Q: Leah had 32 chocolates and her sister had 42. If they ate 35, how many pieces do they have left in total?\n",
      "A: Originally, Leah had 32 chocolates. Her sister had 42. So in total they had 32 + 42 = 74. After eating 35, they\n",
      "had 74 - 35 = 39. The answer is 39.\n",
      "Q: Jason had 20 lollipops. He gave Denny some lollipops. Now Jason has 12 lollipops. How many lollipops did\n",
      "Jason give to Denny?\n",
      "A: Jason started with 20 lollipops. Then he had 12 after giving some to Denny. So he gave Denny 20 - 12 = 8.\n",
      "The answer is 8.\n",
      "Q: Shawn has five toys. For Christmas, he got two toys each from his mom and dad. How many toys does he\n",
      "have now?\n",
      "A: Shawn started with 5 toys. If he got 2 toys each from his mom and dad, then that is 4 more toys. 5 + 4 = 9.\n",
      "The answer is 9.\n",
      "Q: There were nine computers in the server room. Five more computers were installed each day, from monday\n",
      "to thursday. How many computers are now in the server room?\n",
      "A: There were originally 9 computers. For each of 4 days, 5 more computers were added. So 5 * 4 = 20\n",
      "computers were added. 9 + 20 is 29. The answer is 29.\n",
      "Q: Michael had 58 golf balls. On tuesday, he lost 23 golf balls. On wednesday, he lost 2 more. How many golf\n",
      "balls did he have at the end of wednesday?\n",
      "A: Michael started with 58 golf balls. After losing 23 on tuesday, he had 58 - 23 = 35. After losing 2 more, he\n",
      "had 35 - 2 = 33 golf balls. The answer is 33.\n",
      "Q: Olivia has $23. She bought five bagels for $3 each. How much money does she have left?\n",
      "A: Olivia had 23 dollars. 5 bagels for 3 dollars each will be 5 x 3 = 15 dollars. So she has 23 - 15 dollars left. 23\n",
      "- 15 is 8. The answer is 8.\n",
      "Q: A robe takes 2 bolts of blue fiber and half that much white fiber.  How many bolts in total does it take?\n",
      "A:\n",
      "\n",
      "Let's think step by step.\n",
      "Please output your answer at the end as ##<your answer (arabic numerals)>\n",
      "\n",
      "1. A robe takes 2 bolts of blue fiber.\n",
      "2. It also takes half that much white fiber, which is 2 / 2 = 1 bolt.\n",
      "3. So in total, it takes 2 (blue) + 1 (white) = 3 bolts.\n",
      "\n",
      "Therefore, it takes 3 bolts in total. ##3\n"
     ]
    },
    {
     "name": "stderr",
     "output_type": "stream",
     "text": [
      "  0%|          | 3/1319 [00:06<45:48,  2.09s/it]"
     ]
    },
    {
     "name": "stdout",
     "output_type": "stream",
     "text": [
      "\n",
      "Q: There are 15 trees in the grove. Grove workers will plant trees in the grove today. After they are done, there\n",
      "will be 21 trees. How many trees did the grove workers plant today?\n",
      "A: There are 15 trees originally. Then there were 21 trees after some more were planted. So there must have\n",
      "been 21 - 15 = 6. The answer is 6.\n",
      "Q: If there are 3 cars in the parking lot and 2 more cars arrive, how many cars are in the parking lot?\n",
      "A: There are originally 3 cars. 2 more cars arrive. 3 + 2 = 5. The answer is 5.\n",
      "Q: Leah had 32 chocolates and her sister had 42. If they ate 35, how many pieces do they have left in total?\n",
      "A: Originally, Leah had 32 chocolates. Her sister had 42. So in total they had 32 + 42 = 74. After eating 35, they\n",
      "had 74 - 35 = 39. The answer is 39.\n",
      "Q: Jason had 20 lollipops. He gave Denny some lollipops. Now Jason has 12 lollipops. How many lollipops did\n",
      "Jason give to Denny?\n",
      "A: Jason started with 20 lollipops. Then he had 12 after giving some to Denny. So he gave Denny 20 - 12 = 8.\n",
      "The answer is 8.\n",
      "Q: Shawn has five toys. For Christmas, he got two toys each from his mom and dad. How many toys does he\n",
      "have now?\n",
      "A: Shawn started with 5 toys. If he got 2 toys each from his mom and dad, then that is 4 more toys. 5 + 4 = 9.\n",
      "The answer is 9.\n",
      "Q: There were nine computers in the server room. Five more computers were installed each day, from monday\n",
      "to thursday. How many computers are now in the server room?\n",
      "A: There were originally 9 computers. For each of 4 days, 5 more computers were added. So 5 * 4 = 20\n",
      "computers were added. 9 + 20 is 29. The answer is 29.\n",
      "Q: Michael had 58 golf balls. On tuesday, he lost 23 golf balls. On wednesday, he lost 2 more. How many golf\n",
      "balls did he have at the end of wednesday?\n",
      "A: Michael started with 58 golf balls. After losing 23 on tuesday, he had 58 - 23 = 35. After losing 2 more, he\n",
      "had 35 - 2 = 33 golf balls. The answer is 33.\n",
      "Q: Olivia has $23. She bought five bagels for $3 each. How much money does she have left?\n",
      "A: Olivia had 23 dollars. 5 bagels for 3 dollars each will be 5 x 3 = 15 dollars. So she has 23 - 15 dollars left. 23\n",
      "- 15 is 8. The answer is 8.\n",
      "Q: Josh decides to try flipping a house.  He buys a house for $80,000 and then puts in $50,000 in repairs.  This increased the value of the house by 150%.  How much profit did he make?\n",
      "A:\n",
      "\n",
      "Let's think step by step.\n",
      "Please output your answer at the end as ##<your answer (arabic numerals)>\n",
      "\n",
      "Step 1: Calculate the increase in value of the house after repairs.\n",
      "Increase in value = 150% of $80,000\n",
      "Increase in value = 150/100 * $80,000\n",
      "Increase in value = $120,000\n",
      "\n",
      "Step 2: Calculate the total value of the house after repairs.\n",
      "Total value = Initial value + Increase in value\n",
      "Total value = $80,000 + $120,000\n",
      "Total value = $200,000\n",
      "\n",
      "Step 3: Calculate the profit made by Josh.\n",
      "Profit = Total value - (Initial cost + Repair cost)\n",
      "Profit = $200,000 - ($80,000 + $50,000)\n",
      "Profit = $200,000 - $130,000\n",
      "Profit =\n"
     ]
    },
    {
     "name": "stderr",
     "output_type": "stream",
     "text": [
      "\n"
     ]
    },
    {
     "data": {
      "text/plain": [
       "0.6666666666666666"
      ]
     },
     "execution_count": 7,
     "metadata": {},
     "output_type": "execute_result"
    }
   ],
   "execution_count": 7
  },
  {
   "cell_type": "code",
   "source": [],
   "metadata": {
    "id": "QOWlobl4ybyz",
    "ExecuteTime": {
     "end_time": "2024-07-29T09:26:04.139184Z",
     "start_time": "2024-07-29T09:26:04.137263Z"
    }
   },
   "outputs": [],
   "execution_count": 7
  }
 ]
}
